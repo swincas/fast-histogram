{
 "cells": [
  {
   "cell_type": "markdown",
   "metadata": {},
   "source": [
    "# Fibonacci sequence\n",
    "\n",
    "The Fibonacci sequence is a series of numbers where a number is found by adding up the two numbers before it. Starting with 0 and 1, the sequence goes 0, 1, 1, 2, 3, 5, 8, 13, 21, 34, and so forth. Written as a rule, the expression is:\n",
    "## $$x_n = x_{n-1} + x_{n-2}$$\n",
    "![alt text](https://landperspectives.files.wordpress.com/2014/12/1-fibonacci-sequence1.jpg )"
   ]
  },
  {
   "cell_type": "markdown",
   "metadata": {},
   "source": [
    "***\n",
    "## Defining python function"
   ]
  },
  {
   "cell_type": "code",
   "execution_count": 1,
   "metadata": {
    "collapsed": true
   },
   "outputs": [],
   "source": [
    "def fib(n):\n",
    "    a, b = 0.0, 1.0\n",
    "    for i in range(n):\n",
    "        a, b = a+b, a\n",
    "    return a"
   ]
  },
  {
   "cell_type": "code",
   "execution_count": 2,
   "metadata": {
    "collapsed": false
   },
   "outputs": [
    {
     "name": "stdout",
     "output_type": "stream",
     "text": [
      "10000 loops, best of 3: 27 µs per loop\n"
     ]
    }
   ],
   "source": [
    "%timeit fib(120)"
   ]
  },
  {
   "cell_type": "markdown",
   "metadata": {},
   "source": [
    "## Using cython\n",
    "The same function can be copied and pasted into cython. In fact, cython can compile (nearly) all python code.\n",
    "```cython\n",
    "def fib_cython_dynamic(n):\n",
    "    a, b = 0.0, 1.0\n",
    "    for i in range(n):\n",
    "        a, b = a+b, a\n",
    "    return a\n",
    "```"
   ]
  },
  {
   "cell_type": "code",
   "execution_count": 3,
   "metadata": {
    "collapsed": false
   },
   "outputs": [],
   "source": [
    "from fib_cython import fib_cython_dynamic"
   ]
  },
  {
   "cell_type": "code",
   "execution_count": 5,
   "metadata": {
    "collapsed": false
   },
   "outputs": [
    {
     "name": "stdout",
     "output_type": "stream",
     "text": [
      "1000000 loops, best of 3: 1.33 µs per loop\n"
     ]
    }
   ],
   "source": [
    "%timeit fib_cython_dynamic(120)"
   ]
  },
  {
   "cell_type": "markdown",
   "metadata": {},
   "source": [
    "A bit of performance boost, but that's not enough... Let's add static typesetting:\n",
    "```cython\n",
    "cpdef fib_cython_static(int n):\n",
    "    cdef:\n",
    "        double a=0.0, b=1.0\n",
    "        int i;\n",
    "    for i in range(n):\n",
    "        a, b = a + b, a\n",
    "    return a\n",
    "```\n",
    "Now that we typeset our function, cython can create optimized code, based on the data types."
   ]
  },
  {
   "cell_type": "code",
   "execution_count": 6,
   "metadata": {
    "collapsed": false
   },
   "outputs": [],
   "source": [
    "from fib_cython import fib_cython_static"
   ]
  },
  {
   "cell_type": "code",
   "execution_count": 7,
   "metadata": {
    "collapsed": false
   },
   "outputs": [
    {
     "name": "stdout",
     "output_type": "stream",
     "text": [
      "The slowest run took 7.66 times longer than the fastest. This could mean that an intermediate result is being cached.\n",
      "1000000 loops, best of 3: 280 ns per loop\n"
     ]
    }
   ],
   "source": [
    "%timeit fib_cython_static(120)"
   ]
  },
  {
   "cell_type": "markdown",
   "metadata": {},
   "source": [
    "Very good up till now, but we can still do better. Normally python perform what's called offbounds and wraparound checking. We can disable that for our function by doing:\n",
    "```cython\n",
    "cimport cython\n",
    "@cython.boundscheck(False)\n",
    "@cython.wraparound(False)\n",
    "cpdef fib_cython_static(int n):\n",
    "    if n<2:\n",
    "        return n\n",
    "    return fib_cython_static(n-2) + fib_cython_static(n-1)\n",
    "```"
   ]
  },
  {
   "cell_type": "code",
   "execution_count": 8,
   "metadata": {
    "collapsed": false
   },
   "outputs": [],
   "source": [
    "from fib_cython import fib_cython_opt"
   ]
  },
  {
   "cell_type": "code",
   "execution_count": 9,
   "metadata": {
    "collapsed": false
   },
   "outputs": [
    {
     "name": "stdout",
     "output_type": "stream",
     "text": [
      "The slowest run took 7.47 times longer than the fastest. This could mean that an intermediate result is being cached.\n",
      "1000000 loops, best of 3: 255 ns per loop\n"
     ]
    }
   ],
   "source": [
    "%timeit fib_cython_opt(120)"
   ]
  }
 ],
 "metadata": {
  "kernelspec": {
   "display_name": "Python [Root]",
   "language": "python",
   "name": "Python [Root]"
  },
  "language_info": {
   "codemirror_mode": {
    "name": "ipython",
    "version": 2
   },
   "file_extension": ".py",
   "mimetype": "text/x-python",
   "name": "python",
   "nbconvert_exporter": "python",
   "pygments_lexer": "ipython2",
   "version": "2.7.12"
  }
 },
 "nbformat": 4,
 "nbformat_minor": 0
}
