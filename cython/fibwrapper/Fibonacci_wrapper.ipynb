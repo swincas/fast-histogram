{
 "cells": [
  {
   "cell_type": "markdown",
   "metadata": {},
   "source": [
    "# Wrapping C functions\n",
    "Cython can also wrap c functions, and make them visible to the python interpreter, and it does it quite easily.\n",
    "\n",
    "Consider the following C function in file \"cfib.c\":\n",
    "```C\n",
    "#include <stdlib.h>\n",
    "\n",
    "double cfib(int n)\n",
    "{\n",
    "    int i;\n",
    "    double a=0.0, b = 1.0, tmp;\n",
    "    for (i=0;i<n;i++)\n",
    "    {\n",
    "        tmp = a; a = a+b; b = tmp;\n",
    "    }\n",
    "    return tmp;\n",
    "}\n",
    "```\n",
    "\n",
    "Header file: \"cfib.h\":\n",
    "```c\n",
    "double cfib(int n);\n",
    "```\n",
    "\n",
    "\n",
    "Cython can 'extern' define the function, and then present it to a python function as follows:\n",
    "```cython\n",
    "cdef extern from \"cfib.h\":\n",
    "    double cfib(int n)\n",
    "\n",
    "def fibc(n):\n",
    "    return cfib(n)\n",
    "```"
   ]
  },
  {
   "cell_type": "code",
   "execution_count": 1,
   "metadata": {
    "collapsed": true
   },
   "outputs": [],
   "source": [
    "from wrapper import fibc"
   ]
  },
  {
   "cell_type": "code",
   "execution_count": 2,
   "metadata": {
    "collapsed": false
   },
   "outputs": [
    {
     "name": "stdout",
     "output_type": "stream",
     "text": [
      "The slowest run took 7.50 times longer than the fastest. This could mean that an intermediate result is being cached.\n",
      "1000000 loops, best of 3: 254 ns per loop\n"
     ]
    }
   ],
   "source": [
    "%timeit fibc(120)"
   ]
  },
  {
   "cell_type": "markdown",
   "metadata": {},
   "source": [
    "Timing result is close to what we got using the pure cython function we used previously.\n",
    "\n",
    "Of course, there's a call overhead in the previous call."
   ]
  },
  {
   "cell_type": "code",
   "execution_count": 3,
   "metadata": {
    "collapsed": false
   },
   "outputs": [
    {
     "ename": "ImportError",
     "evalue": "cannot import name cfib",
     "output_type": "error",
     "traceback": [
      "\u001b[0;31m---------------------------------------------------------------------------\u001b[0m",
      "\u001b[0;31mImportError\u001b[0m                               Traceback (most recent call last)",
      "\u001b[0;32m<ipython-input-3-a61dc147377c>\u001b[0m in \u001b[0;36m<module>\u001b[0;34m()\u001b[0m\n\u001b[0;32m----> 1\u001b[0;31m \u001b[0;32mfrom\u001b[0m \u001b[0mwrapper\u001b[0m \u001b[0;32mimport\u001b[0m \u001b[0mcfib\u001b[0m\u001b[0;34m\u001b[0m\u001b[0m\n\u001b[0m",
      "\u001b[0;31mImportError\u001b[0m: cannot import name cfib"
     ]
    }
   ],
   "source": [
    "from wrapper import cfib"
   ]
  },
  {
   "cell_type": "markdown",
   "metadata": {},
   "source": [
    "What python returns is quite expected. The function cfib is not visible to the python interpreter, as it is defined in a cdef block."
   ]
  },
  {
   "cell_type": "code",
   "execution_count": 4,
   "metadata": {
    "collapsed": false
   },
   "outputs": [
    {
     "name": "stdout",
     "output_type": "stream",
     "text": [
      "Help on built-in function fibc in module wrapper:\n",
      "\n",
      "fibc(...)\n",
      "\n"
     ]
    }
   ],
   "source": [
    "help(fibc)"
   ]
  },
  {
   "cell_type": "markdown",
   "metadata": {},
   "source": [
    "Because cython translates into C and compiles the source code, the function fibc is imported from the shared library \"wrapper.so\", and is interpreted as a built-in function.\n",
    "For who's interested, cython supports docstrings to be attached to functions too"
   ]
  }
 ],
 "metadata": {
  "anaconda-cloud": {},
  "kernelspec": {
   "display_name": "Python [Root]",
   "language": "python",
   "name": "Python [Root]"
  },
  "language_info": {
   "codemirror_mode": {
    "name": "ipython",
    "version": 2
   },
   "file_extension": ".py",
   "mimetype": "text/x-python",
   "name": "python",
   "nbconvert_exporter": "python",
   "pygments_lexer": "ipython2",
   "version": "2.7.12"
  }
 },
 "nbformat": 4,
 "nbformat_minor": 0
}
